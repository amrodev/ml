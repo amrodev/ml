{
 "cells": [
  {
   "cell_type": "code",
   "execution_count": 13,
   "id": "f5a2ca73-3937-4f36-9369-f7d71f54a68f",
   "metadata": {
    "tags": []
   },
   "outputs": [
    {
     "name": "stdout",
     "output_type": "stream",
     "text": [
      "my name is amr , i am 30 years old, my height is 165 \n"
     ]
    }
   ],
   "source": [
    "## Variables and Data Types\n",
    "# 1.Create a variable called name and assign your name to it.\n",
    "name = 'amr'\n",
    "# 2.Create variables to store your age, height (in meters), and a boolean variable indicating whether you have a pet.\n",
    "age = 30\n",
    "height = 165\n",
    "have_pet = False\n",
    "#3.Print out these variables with appropriate labels.\n",
    "print(\"my name is {} , i am {} years old, my height is {} \".format(name,age,height))"
   ]
  },
  {
   "cell_type": "code",
   "execution_count": 22,
   "id": "0c82391b-94e3-4ca3-9f23-7e74681e0b2a",
   "metadata": {
    "tags": []
   },
   "outputs": [
    {
     "name": "stdout",
     "output_type": "stream",
     "text": [
      "Odd\n"
     ]
    }
   ],
   "source": [
    "## Exercise 2: Conditional Statements\n",
    "\n",
    "# 1.Write a program that takes an integer as input and prints \"Even\" if it's even and \"Odd\" if it's odd.\n",
    "num = 5\n",
    "if(num % 2 == 0):\n",
    "    print('Even')\n",
    "else:\n",
    "    print('Odd')"
   ]
  },
  {
   "cell_type": "code",
   "execution_count": 23,
   "id": "0bf8eb70-d669-40e0-861d-48c45cb40b10",
   "metadata": {
    "tags": []
   },
   "outputs": [
    {
     "name": "stdout",
     "output_type": "stream",
     "text": [
      "Negative\n"
     ]
    }
   ],
   "source": [
    "# 2.Extend the program to handle negative numbers and print \"Negative\" for negative integers.\n",
    "num = -5\n",
    "if(num < 0):\n",
    "    print('Negative')"
   ]
  },
  {
   "cell_type": "code",
   "execution_count": 24,
   "id": "3b8fa698-a2bb-4b03-be03-23fe7d34a5cc",
   "metadata": {
    "tags": []
   },
   "outputs": [],
   "source": [
    "## Exercise 3: Loops"
   ]
  },
  {
   "cell_type": "code",
   "execution_count": 29,
   "id": "c3ee3f5d-8a5d-4b6d-95f4-24477cdfff75",
   "metadata": {
    "tags": []
   },
   "outputs": [
    {
     "name": "stdout",
     "output_type": "stream",
     "text": [
      "1\n",
      "2\n",
      "3\n",
      "4\n",
      "5\n",
      "6\n",
      "7\n",
      "8\n",
      "9\n",
      "10\n"
     ]
    }
   ],
   "source": [
    "# 1.Write a program that prints the numbers from 1 to 10 using a for loop.\n",
    "for i in range(1,11):\n",
    "    print(i)"
   ]
  },
  {
   "cell_type": "code",
   "execution_count": 31,
   "id": "b78ddffa-a63c-40ee-a841-37d7d43b9dfe",
   "metadata": {
    "tags": []
   },
   "outputs": [
    {
     "name": "stdout",
     "output_type": "stream",
     "text": [
      "2\n",
      "4\n",
      "6\n",
      "8\n",
      "10\n",
      "12\n",
      "14\n",
      "16\n",
      "18\n",
      "20\n"
     ]
    }
   ],
   "source": [
    "# 2.Modify the program to print the even numbers from 2 to 20 using a for loop.\n",
    "for i in range(2,21):\n",
    "    if(i % 2 == 0):\n",
    "        print(i)"
   ]
  },
  {
   "cell_type": "code",
   "execution_count": 38,
   "id": "8f3091d5-7515-421b-ba6f-85b0a4ad2790",
   "metadata": {
    "tags": []
   },
   "outputs": [
    {
     "name": "stdout",
     "output_type": "stream",
     "text": [
      "10\n",
      "9\n",
      "8\n",
      "7\n",
      "6\n",
      "5\n",
      "4\n",
      "3\n",
      "2\n",
      "1\n",
      "Blastoff!\n"
     ]
    }
   ],
   "source": [
    "# 3.Write a while loop that counts down from 10 to 1 and then prints \"Blastoff!\"\n",
    "for i in range(10,0,-1):\n",
    "    print(i)\n",
    "print('Blastoff!')    "
   ]
  },
  {
   "cell_type": "code",
   "execution_count": null,
   "id": "f579043c-2d61-4fad-9125-eef219545607",
   "metadata": {},
   "outputs": [],
   "source": [
    "lst = ['apple','orange'"
   ]
  }
 ],
 "metadata": {
  "kernelspec": {
   "display_name": "Python 3 (ipykernel)",
   "language": "python",
   "name": "python3"
  },
  "language_info": {
   "codemirror_mode": {
    "name": "ipython",
    "version": 3
   },
   "file_extension": ".py",
   "mimetype": "text/x-python",
   "name": "python",
   "nbconvert_exporter": "python",
   "pygments_lexer": "ipython3",
   "version": "3.11.4"
  }
 },
 "nbformat": 4,
 "nbformat_minor": 5
}
